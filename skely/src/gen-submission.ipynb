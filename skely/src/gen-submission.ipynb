{
 "cells": [
  {
   "cell_type": "code",
   "execution_count": 1,
   "metadata": {
    "_cell_guid": "79c7e3d0-c299-4dcb-8224-4455121ee9b0",
    "_uuid": "d629ff2d2480ee46fbb7e2d37f6b5fab8052498a"
   },
   "outputs": [],
   "source": [
    "import os\n",
    "import torch\n",
    "import torch.nn as nn\n",
    "from torchvision import transforms\n",
    "from torch.nn import functional as F\n",
    "# from efficientnet_pytorch.model import EfficientNet\n",
    "import pandas as pd\n",
    "import numpy as np\n",
    "from glob import glob\n",
    "from tqdm import tqdm_notebook\n",
    "from PIL import Image\n",
    "device = 'cuda'"
   ]
  },
  {
   "cell_type": "code",
   "execution_count": 2,
   "metadata": {},
   "outputs": [],
   "source": [
    "test_data_path = '../data/test_masked/*'\n",
    "test_images = glob(test_data_path)"
   ]
  },
  {
   "cell_type": "code",
   "execution_count": 3,
   "metadata": {},
   "outputs": [],
   "source": [
    "test_images_lst = [i.split('/')[-1] for i in test_images]"
   ]
  },
  {
   "cell_type": "code",
   "execution_count": 4,
   "metadata": {},
   "outputs": [],
   "source": [
    "class TestDataLoader:\n",
    "    def __init__(self, image_paths, preprocess):\n",
    "        self.image_paths = image_paths\n",
    "    \n",
    "    def __len__(self):\n",
    "        return len(self.image_paths)\n",
    "    \n",
    "    def __getitem__(self, item):\n",
    "        image_path = self.image_paths[item]\n",
    "        img = Image.open(image_path)\n",
    "        \n",
    "        if preprocess:\n",
    "            img = preprocess(img)\n",
    "        \n",
    "        return {\n",
    "            'image' : img\n",
    "        }"
   ]
  },
  {
   "cell_type": "code",
   "execution_count": 5,
   "metadata": {},
   "outputs": [],
   "source": [
    "mean = (0.485, 0.456, 0.406)\n",
    "std = (0.229, 0.224, 0.225)\n",
    "preprocess = transforms.Compose(\n",
    "[\n",
    "    transforms.Resize((224, 224)),\n",
    "    transforms.ToTensor(),\n",
    "    transforms.Normalize(mean, std)\n",
    "])"
   ]
  },
  {
   "cell_type": "code",
   "execution_count": 6,
   "metadata": {},
   "outputs": [],
   "source": [
    "test_dataset = TestDataLoader(test_images, preprocess)"
   ]
  },
  {
   "cell_type": "code",
   "execution_count": 7,
   "metadata": {},
   "outputs": [],
   "source": [
    "test_loader = torch.utils.data.DataLoader(\n",
    "    test_dataset,\n",
    "    batch_size=32,\n",
    "    shuffle=False,\n",
    "    num_workers=4\n",
    ")"
   ]
  },
  {
   "cell_type": "code",
   "execution_count": 8,
   "metadata": {},
   "outputs": [],
   "source": [
    "def predict(data_loader, model, device='cuda'):\n",
    "    model.eval()\n",
    "    final_predictions = np.array([])\n",
    "    with torch.no_grad():\n",
    "        tk0 = tqdm_notebook(data_loader, total=len(data_loader))\n",
    "        for b_idx, data in enumerate(tk0):\n",
    "            for key, value in data.items():\n",
    "                data[key] = value.to(device)\n",
    "            predictions = model(**data)\n",
    "            predictions = predictions.cpu().numpy()\n",
    "#             print(predictions)\n",
    "            final_predictions = np.append(final_predictions, predictions)\n",
    "    return torch.tensor(final_predictions)"
   ]
  },
  {
   "cell_type": "code",
   "execution_count": 9,
   "metadata": {},
   "outputs": [
    {
     "data": {
      "text/plain": [
       "<All keys matched successfully>"
      ]
     },
     "execution_count": 9,
     "metadata": {},
     "output_type": "execute_result"
    }
   ],
   "source": [
    "# Resnet\n",
    "import pretrainedmodels\n",
    "class ResNet18(nn.Module):\n",
    "    def __init__(self, pretrained=\"imagenet\"):\n",
    "        super(ResNet18, self).__init__()\n",
    "        self.model = pretrainedmodels.__dict__[\n",
    "            \"resnet18\"\n",
    "        ](pretrained=pretrained)\n",
    "        self.out = nn.Linear(512, 1)\n",
    "\n",
    "    def forward(self, image):\n",
    "        bs, _, _, _ = image.shape\n",
    "        x = self.model.features(image)\n",
    "        x = F.adaptive_avg_pool2d(x, 1)\n",
    "        x = x.reshape(bs, -1)\n",
    "        out = self.out(x)\n",
    "        return out\n",
    "\n",
    "model = ResNet18()\n",
    "model.load_state_dict(torch.load('wandb/run-20200719_041321-1e842ylc/model.tar')['model_state_dict'])\n",
    "# model.load_state_dict(torch.load('/home/ashwin/wd/padhai/model(2).tar')['model_state_dict'])"
   ]
  },
  {
   "cell_type": "code",
   "execution_count": 11,
   "metadata": {},
   "outputs": [
    {
     "data": {
      "text/plain": [
       "<All keys matched successfully>"
      ]
     },
     "execution_count": 11,
     "metadata": {},
     "output_type": "execute_result"
    }
   ],
   "source": [
    "# Resnet\n",
    "import pretrainedmodels\n",
    "class ResNet50(nn.Module):\n",
    "    def __init__(self, pretrained=\"imagenet\"):\n",
    "        super(ResNet50, self).__init__()\n",
    "        self.model = pretrainedmodels.__dict__[\n",
    "            \"resnet50\"\n",
    "        ](pretrained=pretrained)\n",
    "        \n",
    "        self.out = nn.Sequential(\n",
    "            nn.BatchNorm1d(2048),\n",
    "            nn.Dropout(p=0.25),\n",
    "            nn.Linear(2048, 512),\n",
    "            nn.ReLU(inplace=True),\n",
    "            nn.BatchNorm1d(512),\n",
    "            nn.Dropout(p=0.5),\n",
    "            nn.Linear(512, 1)\n",
    "        )\n",
    "\n",
    "    def forward(self, image):\n",
    "        bs, _, _, _ = image.shape\n",
    "        x = self.model.features(image)\n",
    "        x = F.adaptive_avg_pool2d(x, 1)\n",
    "        x = x.reshape(bs, -1)\n",
    "        out = self.out(x)\n",
    "        return out\n",
    "\n",
    "model = ResNet50()\n",
    "model.load_state_dict(torch.load('wandb/run-20200718_070618-1a0xkz77/model.tar')['model_state_dict'])\n",
    "# model.load_state_dict(torch.load('/home/ashwin/wd/padhai//model(3).tar')['model_state_dict'])"
   ]
  },
  {
   "cell_type": "code",
   "execution_count": 10,
   "metadata": {},
   "outputs": [
    {
     "name": "stderr",
     "output_type": "stream",
     "text": [
      "<ipython-input-8-478c83c16726>:5: TqdmDeprecationWarning: This function will be removed in tqdm==5.0.0\n",
      "Please use `tqdm.notebook.tqdm` instead of `tqdm.tqdm_notebook`\n",
      "  tk0 = tqdm_notebook(data_loader, total=len(data_loader))\n"
     ]
    },
    {
     "data": {
      "application/vnd.jupyter.widget-view+json": {
       "model_id": "f635ad15c9fc4abf83477649cdf32143",
       "version_major": 2,
       "version_minor": 0
      },
      "text/plain": [
       "HBox(children=(FloatProgress(value=0.0, max=313.0), HTML(value='')))"
      ]
     },
     "metadata": {},
     "output_type": "display_data"
    },
    {
     "name": "stdout",
     "output_type": "stream",
     "text": [
      "\n"
     ]
    }
   ],
   "source": [
    "model.to(device)\n",
    "pred0 = predict(test_loader, model)"
   ]
  },
  {
   "cell_type": "code",
   "execution_count": 11,
   "metadata": {},
   "outputs": [
    {
     "data": {
      "text/plain": [
       "tensor([216.5544, 199.7953, 340.1466,  ..., 123.5930, 342.0819, 339.0950],\n",
       "       dtype=torch.float64)"
      ]
     },
     "execution_count": 11,
     "metadata": {},
     "output_type": "execute_result"
    }
   ],
   "source": [
    "final_pred = pred0\n",
    "final_pred"
   ]
  },
  {
   "cell_type": "code",
   "execution_count": 38,
   "metadata": {},
   "outputs": [],
   "source": [
    "final_pred = (pred0 + pred1 + pred2+ pred3 + pred4)/5"
   ]
  },
  {
   "cell_type": "code",
   "execution_count": 12,
   "metadata": {},
   "outputs": [
    {
     "data": {
      "text/html": [
       "<div>\n",
       "<style scoped>\n",
       "    .dataframe tbody tr th:only-of-type {\n",
       "        vertical-align: middle;\n",
       "    }\n",
       "\n",
       "    .dataframe tbody tr th {\n",
       "        vertical-align: top;\n",
       "    }\n",
       "\n",
       "    .dataframe thead th {\n",
       "        text-align: right;\n",
       "    }\n",
       "</style>\n",
       "<table border=\"1\" class=\"dataframe\">\n",
       "  <thead>\n",
       "    <tr style=\"text-align: right;\">\n",
       "      <th></th>\n",
       "      <th>filename</th>\n",
       "      <th>xRot</th>\n",
       "    </tr>\n",
       "  </thead>\n",
       "  <tbody>\n",
       "    <tr>\n",
       "      <th>0</th>\n",
       "      <td>009999.png</td>\n",
       "      <td>216.554382</td>\n",
       "    </tr>\n",
       "    <tr>\n",
       "      <th>1</th>\n",
       "      <td>010000.png</td>\n",
       "      <td>199.795273</td>\n",
       "    </tr>\n",
       "    <tr>\n",
       "      <th>2</th>\n",
       "      <td>010001.png</td>\n",
       "      <td>340.146606</td>\n",
       "    </tr>\n",
       "    <tr>\n",
       "      <th>3</th>\n",
       "      <td>010002.png</td>\n",
       "      <td>125.332909</td>\n",
       "    </tr>\n",
       "    <tr>\n",
       "      <th>4</th>\n",
       "      <td>010003.png</td>\n",
       "      <td>147.055099</td>\n",
       "    </tr>\n",
       "  </tbody>\n",
       "</table>\n",
       "</div>"
      ],
      "text/plain": [
       "     filename        xRot\n",
       "0  009999.png  216.554382\n",
       "1  010000.png  199.795273\n",
       "2  010001.png  340.146606\n",
       "3  010002.png  125.332909\n",
       "4  010003.png  147.055099"
      ]
     },
     "execution_count": 12,
     "metadata": {},
     "output_type": "execute_result"
    }
   ],
   "source": [
    "submission = pd.DataFrame({'filename':test_images_lst,'xRot': final_pred})\n",
    "submission.head()"
   ]
  },
  {
   "cell_type": "code",
   "execution_count": 13,
   "metadata": {},
   "outputs": [],
   "source": [
    "submission.to_csv('resnet18_onefold.csv', index=False)"
   ]
  }
 ],
 "metadata": {
  "kernelspec": {
   "display_name": "Python 3",
   "language": "python",
   "name": "python3"
  },
  "language_info": {
   "codemirror_mode": {
    "name": "ipython",
    "version": 3
   },
   "file_extension": ".py",
   "mimetype": "text/x-python",
   "name": "python",
   "nbconvert_exporter": "python",
   "pygments_lexer": "ipython3",
   "version": "3.8.3"
  }
 },
 "nbformat": 4,
 "nbformat_minor": 4
}
